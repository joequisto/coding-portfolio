{
  "nbformat": 4,
  "nbformat_minor": 0,
  "metadata": {
    "colab": {
      "name": "quisto_2S2122_Activity_3-2.ipynb",
      "provenance": [],
      "collapsed_sections": []
    },
    "kernelspec": {
      "name": "python3",
      "display_name": "Python 3"
    },
    "language_info": {
      "name": "python"
    }
  },
  "cells": [
    {
      "cell_type": "markdown",
      "source": [
        "**Name**: Romeo Jose B. Quisto\n",
        "\n",
        "**SN**: 201907164\n",
        "\n",
        "**Class**: THQ1\n",
        "\n",
        "**Task**: Create a noise simulator based on the binary symmetric channel (BSC).\n",
        "\n",
        "Have fun doing this exercise! 💓"
      ],
      "metadata": {
        "id": "URv2mlIjRS_1"
      }
    },
    {
      "cell_type": "markdown",
      "source": [
        "---\n",
        "\n",
        "# Noisy Images\n",
        "\n",
        "For this part, we will simulate a binary symmetric channel BSC using images. This exercise follows the discussion about Noisy Images in our Wiki page. All you have to do is create a simulator for this. The goal of this exercise is just to give you a feel of how noise affects our data and how can we correlate it with our theory of information.\n",
        "\n",
        "The objectives are:\n",
        "* Task 1 - Create a function that extracts the probability of the binary data. \n",
        "* Task 2 - Adding noise to images.\n",
        "* Task 3 - Creating functions for information measures.\n",
        "* Task 4 - Answer the following questions.\n",
        "\n",
        "You will be provided with images from our Git dump. They're simple binary images anyway. We pre-processed these images already."
      ],
      "metadata": {
        "id": "d9RruSDXRjF9"
      }
    },
    {
      "cell_type": "markdown",
      "source": [
        "# RUN ME BUT DON'T CHANGE ANYTHING\n",
        "\n",
        "You are allowed to study any of the provided functions. You're not allowed to add more than the given imported packages."
      ],
      "metadata": {
        "id": "Dj2jPaWrGESn"
      }
    },
    {
      "cell_type": "code",
      "source": [
        "###############################################\n",
        "# PLEASE DO NOT CHANGE ANYTHING IN THIS CODE BLOCK!\n",
        "###############################################\n",
        "\n",
        "###############################################\n",
        "# Import useful packages for convenience\n",
        "###############################################\n",
        "from matplotlib import image\n",
        "import math                       # For useful math functions like log of 2\n",
        "import matplotlib.pyplot as plt   # For plotting later\n",
        "import requests                   # For extracting data saved on git \n",
        "import random                     # Might be useful for randomization\n",
        "\n",
        "###############################################\n",
        "# We made these for you! Use it wisely :)\n",
        "###############################################\n",
        "\n",
        "###############################################\n",
        "# Calculating information. The input small x is some probability value.\n",
        "# 0 <= x <= 1\n",
        "# If you go beyond the input range, it will report the errors\n",
        "###############################################\n",
        "def info(x):\n",
        "    if(x == 0):\n",
        "        return 0\n",
        "    if(x == 1):\n",
        "        return 0\n",
        "    elif(x < 0):\n",
        "        print(\"Error! Can't have negative probabilities\")\n",
        "        return \n",
        "    elif(x > 1):\n",
        "        print(\"Error! Can't have probabilities more than 1\")\n",
        "    else:\n",
        "        return -1*(math.log(x,2))\n",
        "\n",
        "###############################################\n",
        "# Such an inefficient way of converting binary text\n",
        "# into a list. Sorry this is just us being lazy. But you\n",
        "# get the idea :P\n",
        "###############################################\n",
        "def convert_to_list(raw_img):\n",
        "  converted_list = []\n",
        "  temp_row = []\n",
        "  for i in raw_img:\n",
        "    if(i != '\\n'):\n",
        "      if(i == '0'):\n",
        "        temp_row.append(0)\n",
        "      else:\n",
        "        temp_row.append(1)\n",
        "    else:\n",
        "      converted_list.append(temp_row)\n",
        "      temp_row = []\n",
        "\n",
        "  return converted_list\n",
        "\n",
        "###############################################\n",
        "# Displaying listed data as images\n",
        "###############################################\n",
        "def display_img(img_data):\n",
        "  plt.imshow(img_data, cmap='Greys',  interpolation='nearest')\n",
        "  plt.axis('off')\n",
        "  return\n",
        "\n",
        "###############################################\n",
        "# Clean vs noise score\n",
        "###############################################\n",
        "def clean_v_noise(clean_data,noisy_data,noise_prob):\n",
        "\n",
        "  # Sanity checker\n",
        "  if(noise_prob < 0 or noise_prob > 1):\n",
        "    print(\"Error! Noise probability isn't correct\")\n",
        "    return\n",
        "\n",
        "  # Get total length per row (either noisy or clean works)\n",
        "  row_length = len(clean_data)\n",
        "  col_length = len(clean_data[0])\n",
        "  total_pix = row_length  * col_length\n",
        "  noise_count = round(total_pix * noise_prob)\n",
        "\n",
        "  score = 0\n",
        "\n",
        "  for i in range(row_length):\n",
        "    for j in range(col_length):\n",
        "      if(clean_data[i][j]!=noisy_data[i][j]):\n",
        "        score += 1\n",
        "  \n",
        "  if(score == noise_count):\n",
        "    print(\"Great! you got the function perfectly\")\n",
        "  elif(score > noise_count-5 and score < noise_count + 5):\n",
        "    print(\"Good! It ain't perfect but that's fine. No deductions for this part\")\n",
        "  else:\n",
        "    print(\"ERROR! Your noise simulator isn't OK. Try again.\")\n",
        "    # print(noise_count)\n",
        "    # print(score)\n",
        "  \n",
        "  return\n",
        "\n",
        "###############################################\n",
        "# Theoretical received probability\n",
        "# just the theoretical computation, should be\n",
        "# consistent with the actual results\n",
        "# src_prob1 is the probability of sending a 1 from the source (p)\n",
        "# noise_prob is our chosen error probability\n",
        "###############################################\n",
        "def theo_rcv_prob(src_prob1, noise_prob):\n",
        "  rcv_prob1 = src_prob1 + noise_prob - 2*src_prob1*noise_prob\n",
        "  rcv_prob0 = 1 - rcv_prob1\n",
        "\n",
        "  return [rcv_prob1, rcv_prob0]\n",
        "\n",
        "###############################################\n",
        "# Importing data\n",
        "###############################################\n",
        "clean_batman_img     = convert_to_list(list(requests.get('https://raw.githubusercontent.com/rgantonio/CoE161---FileDump/main/batman_binary.txt'    ).text))\n",
        "clean_incredible_img = convert_to_list(list(requests.get('https://raw.githubusercontent.com/rgantonio/CoE161---FileDump/main/incredible_binary.txt').text))\n",
        "clean_jojo_img       = convert_to_list(list(requests.get('https://raw.githubusercontent.com/rgantonio/CoE161---FileDump/main/jojo_binary.txt'      ).text))"
      ],
      "metadata": {
        "id": "p0ieZcEOlLKw"
      },
      "execution_count": null,
      "outputs": []
    },
    {
      "cell_type": "markdown",
      "source": [
        "Let's view some images in here 👀. We recommend that you choose ONE image only. Please set choose_image_name to True if you want to use it. You can select all if you like. We gave this option so that you can avoid cluttering the results. You can always go back to this later on! "
      ],
      "metadata": {
        "id": "YfX4lmR1pO7H"
      }
    },
    {
      "cell_type": "code",
      "source": [
        "###############################################\n",
        "# Set your chosen image(s) here\n",
        "###############################################\n",
        "choose_batman = True\n",
        "choose_incredible = False\n",
        "choose_jojo = False"
      ],
      "metadata": {
        "id": "3mzyPaIKEb3s"
      },
      "execution_count": null,
      "outputs": []
    },
    {
      "cell_type": "code",
      "source": [
        "###############################################\n",
        "# Displaying Batman image\n",
        "###############################################\n",
        "if(choose_batman):\n",
        "  display_img(clean_batman_img)"
      ],
      "metadata": {
        "id": "F37L5fZMo17W",
        "colab": {
          "base_uri": "https://localhost:8080/",
          "height": 248
        },
        "outputId": "4c01612e-7f32-4ebb-bfa1-57e188b2d2cf"
      },
      "execution_count": null,
      "outputs": [
        {
          "output_type": "display_data",
          "data": {
            "text/plain": [
              "<Figure size 432x288 with 1 Axes>"
            ],
            "image/png": "[encoded data removed]"
          },
          "metadata": {
            "needs_background": "light"
          }
        }
      ]
    },
    {
      "cell_type": "code",
      "source": [
        "###############################################\n",
        "# Displaying sad Mr. Incredible image\n",
        "###############################################\n",
        "if(choose_incredible):\n",
        "  display_img(clean_incredible_img)"
      ],
      "metadata": {
        "id": "USQLjC8CqGi-"
      },
      "execution_count": null,
      "outputs": []
    },
    {
      "cell_type": "code",
      "source": [
        "###############################################\n",
        "# Displaying Jojo action star\n",
        "###############################################\n",
        "if(choose_jojo):\n",
        "  display_img(clean_jojo_img)"
      ],
      "metadata": {
        "id": "NMVsSnqLqLJl"
      },
      "execution_count": null,
      "outputs": []
    },
    {
      "cell_type": "markdown",
      "source": [
        "Among these given images, **choose just ONE**. Or you can play around with all images later for fun after working on this exercise 😀"
      ],
      "metadata": {
        "id": "Xn8x5oNuqTbE"
      }
    },
    {
      "cell_type": "markdown",
      "source": [
        "# Task 1 - Extract Binary Probabilities\n",
        "\n",
        "The image that you chose will be our source message. Your first task is to create the function ``bin_prob(data)`` which gets the binary source data and computes the probability distribution of 1s and 0s from the images. The return value should be a list that contains only two values ``[probability of 1, probability of 0]``. Note, you only have 0.001 margin of error.\n",
        "\n"
      ],
      "metadata": {
        "id": "-QHm4DdjqvV6"
      }
    },
    {
      "cell_type": "code",
      "source": [
        "###############################################\n",
        "# SANDBOX for your testing\n",
        "###############################################\n",
        "\n",
        "dog = [[1,1,0,1],[1]]\n",
        "\n",
        "# print(clean_incredible_img[179])\n",
        "\n",
        "###############################################"
      ],
      "metadata": {
        "id": "9_6uJKNTucFF"
      },
      "execution_count": null,
      "outputs": []
    },
    {
      "cell_type": "code",
      "source": [
        "###############################################\n",
        "# Extracting probability for a binary data\n",
        "###############################################\n",
        "def bin_prob(data):\n",
        "  \n",
        "  # Fill your code in here\n",
        "  ctr = 0\n",
        "  length = 0\n",
        "  for i in data:\n",
        "    ctr += i.count(1) #counts how many 1s in the data\n",
        "    length += len(i) #counts how many datapoints in the data\n",
        "  prob = [ctr/length, (length-ctr)/length] #calculates probability of 1s and 0s\n",
        "  return prob"
      ],
      "metadata": {
        "id": "YJcaP9yFqjBG"
      },
      "execution_count": null,
      "outputs": []
    },
    {
      "cell_type": "markdown",
      "source": [
        "# CHECKPOINT (1 PT.)\n",
        "\n",
        "Here's a bit of sanity checking for your work. (1 pt.)"
      ],
      "metadata": {
        "id": "zMXCkic-vRdz"
      }
    },
    {
      "cell_type": "code",
      "source": [
        "###############################################\n",
        "# Sanity checking Batman! DO NOT TOUCH ANYTHING IN HERE\n",
        "###############################################\n",
        "\n",
        "if(choose_batman):\n",
        "  batman_source_prob = bin_prob(clean_batman_img)\n",
        "  if((batman_source_prob[0] >= 0.53 and batman_source_prob[0] <= 0.531) and (batman_source_prob[1] >= 0.469 and batman_source_prob[1] <= 0.470)):\n",
        "    print(\"Batman check is good!\")\n",
        "  else:\n",
        "    print(\"Batman check is bad :(\")\n",
        "\n",
        "if(choose_incredible):\n",
        "  incredible_source_prob = bin_prob(clean_incredible_img)\n",
        "  if((incredible_source_prob[0] >= 0.554 and incredible_source_prob[0] <= 0.555) and (incredible_source_prob[1] >= 0.445 and incredible_source_prob[1] <= 0.446)):\n",
        "    print(\"Incredible check is good!\")\n",
        "  else:\n",
        "    print(\"Incredible check is bad :(\")\n",
        "\n",
        "if(choose_jojo):\n",
        "  jojo_source_prob = bin_prob(clean_jojo_img)\n",
        "  if((jojo_source_prob[0] >= 0.397 and jojo_source_prob[0] <= 0.398) and (jojo_source_prob[1] >= 0.602 and jojo_source_prob[1] <= 0.603)):\n",
        "    print(\"Jojo check is good!\")\n",
        "  else:\n",
        "    print(\"Jojo check is bad :(\")"
      ],
      "metadata": {
        "colab": {
          "base_uri": "https://localhost:8080/"
        },
        "id": "ieFNmm_St6Zs",
        "outputId": "eb93caf8-521c-46a4-c8d0-af88f59ac631"
      },
      "execution_count": null,
      "outputs": [
        {
          "output_type": "stream",
          "name": "stdout",
          "text": [
            "Batman check is good!\n"
          ]
        }
      ]
    },
    {
      "cell_type": "markdown",
      "source": [
        "# Task 2 - Adding Noise to Images\n",
        "Great! Now let's simulate noise into our data. Recall from the discussion that the source message is clean. Assuming it goes through some BSC with a noise probability of $\\epsilon$, then it will flip some of the bits by that probability.\n",
        "\n",
        "Create the function `add_noise(data,noise_prob)`. This function takes in the clean `data` (e.g., clean_batman_img), and takes in `noise_prob` which is the noise probability whose value is just from $0 \\leq \\epsilon \\leq 1$. **The output is a new list of the flipped bits**. A few things to consider. \n",
        "\n",
        "\n",
        "*   Make sure that the noise is RANDOM. Everytime you call the function, the noise flips bits in random.\n",
        "*   Doing the randomization method is entirely up to you. You just need to make sure that the percentage of noise is consistent. For example, our images have $240 \\times 180$ dimensions $= 43,200$ pixels. If $\\epsilon = 0.1$ then that means $4,320$ pixels need to be flipped. We have a checker for this 😉\n",
        "* What if the noise probability doesn't give a whole number? Apply the `round()` function.\n",
        "* **Bonus**: Not a requirement but more of added knowledge for you guys. There's a method called **random-indexing** that you might want to research on. However, directly \"googling\" it might not be helpful 😛\n",
        "\n"
      ],
      "metadata": {
        "id": "oDWNZNq5ykEp"
      }
    },
    {
      "cell_type": "code",
      "source": [
        "###############################################\n",
        "# SANDBOX for your testing\n",
        "###############################################\n",
        "\n",
        "dog = [[1,1,0,1],[0]]\n",
        "\n",
        "dog[1][0] = 1 - dog[1][0]\n",
        "\n",
        "print(dog)\n",
        "\n",
        "test = {}\n",
        "test[1] = [4]\n",
        "test[2] = [0]\n",
        "test[1].append(3)\n",
        "if 0 in test:\n",
        "  print(\"key is in here\")\n",
        "\n",
        "#print(clean_incredible_img[179])\n",
        "  \n",
        "#add_noise(clean_incredible_img,0.1)\n",
        "\n",
        "\n",
        "\n",
        "###############################################"
      ],
      "metadata": {
        "id": "pEkdTxDCMHUh",
        "colab": {
          "base_uri": "https://localhost:8080/"
        },
        "outputId": "c26e4792-7d90-4b86-b4f9-6ca4f5daa582"
      },
      "execution_count": null,
      "outputs": [
        {
          "output_type": "stream",
          "name": "stdout",
          "text": [
            "[[1, 1, 0, 1], [1]]\n"
          ]
        }
      ]
    },
    {
      "cell_type": "code",
      "source": [
        "###############################################\n",
        "# Adding noise to the system\n",
        "###############################################\n",
        "\n",
        "# 180 lists\n",
        "# 240 elements per list\n",
        "\n",
        "def add_noise(data,noise_prob):\n",
        "\n",
        "  # Fill your code in here\n",
        "\n",
        "  # Copying dataset\n",
        "  noisy = []\n",
        "\n",
        "  for row in data:\n",
        "    temp_row = []\n",
        "    for col in row:\n",
        "      if col==1:\n",
        "        temp_row.append(1)\n",
        "      else:\n",
        "        temp_row.append(0)\n",
        "    noisy.append(temp_row)\n",
        "\n",
        "  flip = round(noise_prob*len(data)*len(data[0])) #number of bits to be flipped\n",
        "  # print(\"Number of bits to be flipped:\", flip) #checker\n",
        "  norepeats = {} #dictionary for no repeats\n",
        "  ctr = 0\n",
        "\n",
        "  while ctr < flip:\n",
        "    randx = random.randint(0,179) #gets random integer from 0 to 179\n",
        "    randy = random.randint(0,239) #gets random integer from 0 to 239\n",
        "    if randx in norepeats: #check if row value is in dictionary\n",
        "      if randy not in norepeats[randx]: #check if column value has not been paired with the column\n",
        "        norepeats[randx].append(randy) #add column value to the pairing\n",
        "        noisy[randx][randy] = 1 - noisy[randx][randy] #flipper\n",
        "        ctr += 1\n",
        "    else:\n",
        "      norepeats[randx] = [randy] #add values to dictionary\n",
        "      noisy[randx][randy] = 1 - noisy[randx][randy] #flipper\n",
        "      ctr += 1\n",
        "\n",
        "  # print(\"Number of bits flipped (supposedly):\", ctr) #checker\n",
        "\n",
        "  return noisy"
      ],
      "metadata": {
        "id": "VOAH45Zx5Rig"
      },
      "execution_count": null,
      "outputs": []
    },
    {
      "cell_type": "markdown",
      "source": [
        "# CHECKPOINT (4 PTS.)\n",
        "\n",
        "Let's run your `add_noise` function and display some figures. Let's also apply some sanity checking. Feel free to modify the noise probability `epsilon` 😀. (4 pts.) - Part of the 4 pts is checking if your images have proper noise injection."
      ],
      "metadata": {
        "id": "vP49jCsMCo2b"
      }
    },
    {
      "cell_type": "code",
      "source": [
        "###############################################\n",
        "# YOU CAN MODIFY THIS\n",
        "###############################################\n",
        "epsilon = 0.1\n",
        "\n",
        "###############################################\n",
        "# Sanity checking DO NOT CHANGE THIS\n",
        "###############################################\n",
        "if(choose_batman):\n",
        "  noisy_batman_img = add_noise(clean_batman_img,epsilon)\n",
        "  clean_v_noise(clean_batman_img,noisy_batman_img,epsilon)\n",
        "\n",
        "if(choose_incredible):\n",
        "  noisy_incredible_img = add_noise(clean_incredible_img,epsilon)\n",
        "  clean_v_noise(clean_incredible_img,noisy_incredible_img,epsilon)\n",
        "\n",
        "if(choose_jojo):\n",
        "  noisy_jojo_img = add_noise(clean_jojo_img,epsilon)\n",
        "  clean_v_noise(clean_jojo_img,noisy_jojo_img,epsilon)"
      ],
      "metadata": {
        "colab": {
          "base_uri": "https://localhost:8080/"
        },
        "id": "_g-FpI1G6V2A",
        "outputId": "e8be5f47-2359-48c5-a7c6-b37c0565548a"
      },
      "execution_count": null,
      "outputs": [
        {
          "output_type": "stream",
          "name": "stdout",
          "text": [
            "Number of bits to be flipped: 4320\n",
            "Number of bits flipped (supposedly): 4320\n",
            "Great! you got the function perfectly\n"
          ]
        }
      ]
    },
    {
      "cell_type": "code",
      "source": [
        "###############################################\n",
        "# Displaying noisy batman making a separate case\n",
        "# code block so you can display image separately\n",
        "###############################################\n",
        "if(choose_batman):\n",
        "  display_img(noisy_batman_img)"
      ],
      "metadata": {
        "id": "DomqRTLkEDH1",
        "colab": {
          "base_uri": "https://localhost:8080/",
          "height": 248
        },
        "outputId": "1f93c1cb-9495-4541-8f3f-cd07f41941a5"
      },
      "execution_count": null,
      "outputs": [
        {
          "output_type": "display_data",
          "data": {
            "text/plain": [
              "<Figure size 432x288 with 1 Axes>"
            ],
            "image/png": "[encoded data removed]"
          },
          "metadata": {
            "needs_background": "light"
          }
        }
      ]
    },
    {
      "cell_type": "code",
      "source": [
        "###############################################\n",
        "# Displaying noisy incredible making a separate case\n",
        "# code block so you can display image separately\n",
        "###############################################\n",
        "if(choose_incredible):\n",
        "  display_img(noisy_incredible_img)"
      ],
      "metadata": {
        "id": "zWhhEJxhEJ97"
      },
      "execution_count": null,
      "outputs": []
    },
    {
      "cell_type": "code",
      "source": [
        "###############################################\n",
        "# Displaying noisy jojo making a separate case\n",
        "# code block so you can display image separately\n",
        "###############################################\n",
        "if(choose_jojo):\n",
        "  display_img(noisy_jojo_img)"
      ],
      "metadata": {
        "id": "uuKsj3A7ET4b"
      },
      "execution_count": null,
      "outputs": []
    },
    {
      "cell_type": "markdown",
      "source": [
        "You'll notice that our sanity checker is ideal. We need to make theory and reality meet. The images with added noise will be the received message. We need to make sure that the received messages are consistent with our data. The sanity checker below is a \"better\" version in terms of relating theory with reality. Observe the values and see if they are consistent. The differences should be small. (No pts. for this one since it's just additional info)\n",
        "\n"
      ],
      "metadata": {
        "id": "znDd9_1gIb2d"
      }
    },
    {
      "cell_type": "code",
      "source": [
        "###############################################\n",
        "# Better checker and utilizing all other functions\n",
        "###############################################\n",
        "if(choose_batman):\n",
        "  theo_batman_rcv_prob = theo_rcv_prob(batman_source_prob[0], epsilon)\n",
        "  actual_batman_rcv_prob = bin_prob(noisy_batman_img)\n",
        "  print(\"Batman: theoretical received probabilities [P(r=1),P(r=0)]\")\n",
        "  print(theo_batman_rcv_prob)\n",
        "  print(\"Batman: actual received probabilities [P(r=1),P(r=0)]\")\n",
        "  print(actual_batman_rcv_prob)\n",
        "\n",
        "if(choose_incredible):\n",
        "  theo_incredible_rcv_prob = theo_rcv_prob(incredible_source_prob[0], epsilon)\n",
        "  actual_incredible_rcv_prob = bin_prob(noisy_incredible_img)\n",
        "  print(\"Incredible: theoretical received probabilities [P(r=1),P(r=0)]\")\n",
        "  print(theo_incredible_rcv_prob)\n",
        "  print(\"Incredible: actual received probabilities [P(r=1),P(r=0)]\")\n",
        "  print(actual_incredible_rcv_prob)\n",
        "\n",
        "if(choose_jojo):\n",
        "  theo_jojo_rcv_prob = theo_rcv_prob(jojo_source_prob[0], epsilon)\n",
        "  actual_jojo_rcv_prob = bin_prob(noisy_jojo_img)\n",
        "  print(\"Jojo: theoretical received probabilities [P(r=1),P(r=0)]\")\n",
        "  print(theo_jojo_rcv_prob)\n",
        "  print(\"Jojo: actual received probabilities [P(r=1),P(r=0)]\")\n",
        "  print(actual_jojo_rcv_prob)"
      ],
      "metadata": {
        "id": "5Eo9aK53Isrs",
        "colab": {
          "base_uri": "https://localhost:8080/"
        },
        "outputId": "948b3812-60ed-4a38-b2aa-b4b3e8373dd2"
      },
      "execution_count": null,
      "outputs": [
        {
          "output_type": "stream",
          "name": "stdout",
          "text": [
            "Batman: theoretical received probabilities [P(r=1),P(r=0)]\n",
            "[0.5247407407407407, 0.47525925925925927]\n",
            "Batman: actual received probabilities [P(r=1),P(r=0)]\n",
            "[0.5240277777777778, 0.47597222222222224]\n"
          ]
        }
      ]
    },
    {
      "cell_type": "markdown",
      "source": [
        "While doing this, observe and try to ponder for yourself: \"How can we qualify noise?\" Yes. Qualify, so for example for a $\\epsilon = 0.1$ how noisy is the image relative to our own human perspective? Take note of your thoughts."
      ],
      "metadata": {
        "id": "flTB4E0DDINJ"
      }
    },
    {
      "cell_type": "markdown",
      "source": [
        "# Task 3 - Calculating Information\n",
        "\n",
        "This one is simple, create functions `get_hr(-)`, `get_hrgs(-)`, and `get_irs(-)`. The three functions:\n",
        "\n",
        "* `get_hr(-)` returns the $H(R)$ value\n",
        "* `get_hrgs(-)` returns the $H(R|S)$ value\n",
        "* `get_irs(-)` returns the $I(R,S)$ value\n",
        "\n",
        "There are a few guidelines:\n",
        "\n",
        "* STRICTLY no using of global parameters. Eww don't do that...\n",
        "* Functions only return 1 value. The designated one. Use type float.\n",
        "* You are ALLOWED to add other functions if needed just make sure to document them.\n",
        "* You are ALLOWED to use the given functions.\n",
        "* You are ALLOWED to use the three target functions inside of each other if necessary.\n",
        "* The arguments are up to you!"
      ],
      "metadata": {
        "id": "UUWNETBqKycl"
      }
    },
    {
      "cell_type": "code",
      "source": [
        "###############################################\n",
        "# Function to get H(R)\n",
        "###############################################\n",
        "def get_hr(image_data,noise_prob):\n",
        "\n",
        "  # Fill your code in here\n",
        "  srcprob = bin_prob(image_data) #get probability of source\n",
        "  rcvprob = theo_rcv_prob(srcprob[0],noise_prob)\n",
        "\n",
        "  rcventropy = 0\n",
        "  for i in rcvprob:\n",
        "    rcventropy += i*info(i)\n",
        "  \n",
        "  return rcventropy\n",
        "\n",
        "\n"
      ],
      "metadata": {
        "id": "3lLM0D_LLKfZ"
      },
      "execution_count": null,
      "outputs": []
    },
    {
      "cell_type": "code",
      "source": [
        "###############################################\n",
        "# Function to get H(R|S)\n",
        "###############################################\n",
        "def get_hrgs(noise_prob):\n",
        "\n",
        "  # Fill your code in here\n",
        "  return noise_prob*info(noise_prob) + (1-noise_prob)*info(1-noise_prob)\n"
      ],
      "metadata": {
        "id": "uxakqtcxLTjP"
      },
      "execution_count": null,
      "outputs": []
    },
    {
      "cell_type": "code",
      "source": [
        "###############################################\n",
        "# Function to get H(R)\n",
        "###############################################\n",
        "def get_irs(image_data, noise_prob):\n",
        "\n",
        "  # Fill your code in here\n",
        "  return get_hr(image_data,noise_prob) - get_hrgs(noise_prob)"
      ],
      "metadata": {
        "id": "tMCAbmqgLT1o"
      },
      "execution_count": null,
      "outputs": []
    },
    {
      "cell_type": "code",
      "source": [
        "###############################################\n",
        "# SANDBOX for your testing\n",
        "###############################################\n",
        "\n",
        "\n",
        "\n",
        "\n",
        "###############################################"
      ],
      "metadata": {
        "id": "GClEGZnXLJIB"
      },
      "execution_count": null,
      "outputs": []
    },
    {
      "cell_type": "code",
      "source": [
        "###############################################\n",
        "# For extracting data\n",
        "###############################################\n",
        "epsi = 0.8\n",
        "print(\"epsilon =\", epsi)\n",
        "print(round(get_hr(clean_batman_img, epsi),4))\n",
        "print(round(get_hrgs(epsi),4))\n",
        "print(round(get_irs(clean_batman_img, epsi),4))\n",
        "\n",
        "\n",
        "\n",
        "###############################################"
      ],
      "metadata": {
        "id": "qQ2Q1dHQPAgI",
        "colab": {
          "base_uri": "https://localhost:8080/"
        },
        "outputId": "a496f6d8-b093-466d-a287-8e656fe44721"
      },
      "execution_count": null,
      "outputs": [
        {
          "output_type": "stream",
          "name": "stdout",
          "text": [
            "epsilon = 0.8\n",
            "0.999\n",
            "0.7219\n",
            "0.2771\n"
          ]
        }
      ]
    },
    {
      "cell_type": "markdown",
      "source": [
        "# CHECKPOINT (2.5 PTS. - TABLE; 2.5 PTS. - PLOTS)\n",
        "\n",
        "Using the functions you've created do the following:\n",
        "\n",
        "* Fill in the table below. Just answer one of the chosen images. \n",
        "* We provided an empty space above for you to use. You have the freedom to do whatever you need to do to get the appropriate data.\n",
        "* Provide a plot showing the trends for $H(R)$, $H(R|S)$, and $I(R,S)$ while varying $\\epsilon$. Superimpose the trends in a single plot.\n",
        "\n",
        "Here are other guidelines:\n",
        "\n",
        "* When extracting $H(R)$ please use the result AFTER the injecting the noise.\n",
        "* Round to 4 decimal places.\n",
        "* You are allowed to use other parts of the notebook. (e.g., the actual extraction of binary probabilities of the receiver)\n"
      ],
      "metadata": {
        "id": "nXYDR674Oqii"
      }
    },
    {
      "cell_type": "markdown",
      "source": [
        "# FILL IN THE TABLE\n",
        "\n",
        "What picture did you use? *Answer Here*\n",
        "\n",
        "$\\epsilon$           | $H(R)$           | $H(R|S)$         | $I(R,S)$\n",
        "---------------------|------------------|------------------|------------------\n",
        "0.0                  |      0.9972      |         0        | 0.9972\n",
        "0.1                  |      0.9982      |      0.4690      | 0.5292\n",
        "0.2                  |      0.9990      |      0.7219      | 0.2771\n",
        "0.3                  |      0.9996      |      0.8813      | 0.1183\n",
        "0.4                  |      0.9999      |      0.9710      | 0.0289\n",
        "0.5                  |      1.0000      |      1.0000      | 0\n",
        "0.6                  |      0.9999      |      0.9710      | 0.0289\n",
        "0.7                  |      0.9996      |      0.8813      | 0.1183\n",
        "0.8                  |      0.9990      |      0.7219      | 0.2771\n",
        "0.9                  |      0.9982      |      0.4690      | 0.5292\n",
        "1.0                  |      0.9972      |         0        | 0.9972"
      ],
      "metadata": {
        "id": "B6kUmDEJS0DZ"
      }
    },
    {
      "cell_type": "markdown",
      "source": [
        "# SHOW YOUR PLOT HERE"
      ],
      "metadata": {
        "id": "7To2j1FnYcHA"
      }
    },
    {
      "cell_type": "code",
      "source": [
        "###############################################\n",
        "# Show your plots here\n",
        "###############################################\n",
        "hrlist = []\n",
        "hgrslist = []\n",
        "irslist = []\n",
        "xepsilon = [0, 0.1, 0.2, 0.3, 0.4, 0.5, 0.6, 0.7, 0.8, 0.9, 1.0]\n",
        "\n",
        "for i in xepsilon:\n",
        "  hrlist.append(get_hr(clean_batman_img,i))\n",
        "  hgrslist.append(get_hrgs(i))\n",
        "  irslist.append(get_irs(clean_batman_img,i))\n",
        "\n",
        "# Plotting\n",
        "plt.plot(xepsilon,hrlist, label = \"H(R)\")\n",
        "plt.plot(xepsilon,hgrslist, label = \"H(R|S)\")\n",
        "plt.plot(xepsilon,irslist, label = \"I(R,S)\")\n",
        "plt.xlabel(\"noise probability\")\n",
        "plt.ylabel(\"bits\")\n",
        "plt.legend()\n",
        "plt.show()\n",
        "\n",
        "\n",
        "###############################################"
      ],
      "metadata": {
        "id": "XOiOfvy4YeOY",
        "colab": {
          "base_uri": "https://localhost:8080/",
          "height": 279
        },
        "outputId": "a3588126-f944-4837-a8dc-9d913a1c30e6"
      },
      "execution_count": null,
      "outputs": [
        {
          "output_type": "display_data",
          "data": {
            "text/plain": [
              "<Figure size 432x288 with 1 Axes>"
            ],
            "image/png": "[encoded data removed]"
          },
          "metadata": {
            "needs_background": "light"
          }
        }
      ]
    },
    {
      "cell_type": "markdown",
      "source": [
        "# Task 4 - Answer the following\n",
        "\n",
        "1. Based on your results, explain thoroughly how noise affects our images and our intuition about entropies and information? (2 pts.)\n",
        "\n",
        "*The receiver entropy H(R) is constant all throughout even if we vary $\\epsilon$ since the probability of our image data is roughly at 0.5. However, the mutual information I(R,S) varies as the noise probability is varied. When epsilon is 0, it means that the receiver perfectly received the source image. As it increases to 0.5, the image starts to become unrecognizable. At $\\epsilon = 0.5$, you cannot see the image at all anymore. From 0.5 to 1, the received image starts to become clearer but inverted.*\n",
        "\n",
        "2. Based on your results and your perceived observations, is $\\epsilon = 0.1$ very noisy already? (1 pts.)\n",
        "\n",
        "*Yes, $\\epsilon = 0.1$ is very noisy already. I initially thought that at a low noise level such as $\\epsilon = 0.1$, the difference cannot be visually perceived yet, but I stand corrected. The given images are still recognizable but that might not be the case for all images. For example, in the batman image, it's hard to tell the specific shape of his eyes already.*\n",
        "\n",
        "3. What did you learn from this programming exercise? (2 pts.)\n",
        "\n",
        "*I learned about the visual impact of noise on images if left unfiltered. It is important to filter out the noise as much as possible to retain the quality of the image. Other than that, I learned that copying a list is not simply assigning it to a new variable; it just directly references the old list.*"
      ],
      "metadata": {
        "id": "Yi58q24XRE5K"
      }
    }
  ]
}