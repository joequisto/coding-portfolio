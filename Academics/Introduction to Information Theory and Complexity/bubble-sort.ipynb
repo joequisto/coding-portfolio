{
  "nbformat": 4,
  "nbformat_minor": 0,
  "metadata": {
    "colab": {
      "name": "thq1_quisto_romeo_201907164.ipynb",
      "provenance": [],
      "collapsed_sections": []
    },
    "kernelspec": {
      "name": "python3",
      "display_name": "Python 3"
    },
    "language_info": {
      "name": "python"
    }
  },
  "cells": [
    {
      "cell_type": "markdown",
      "source": [
        "**Name**: Romeo Jose B. Quisto\n",
        "\n",
        "**SN**: 201907164\n",
        "\n",
        "**Class**: THQ1\n",
        "\n",
        "**Task**: Your main task is to create a bubble sort function that takes in some list as input and prints each row iteration until we reach the final sorted list. You need to sort the input list in **ascending** order. The following specs must be met:\n",
        "\n",
        "* The sorting must be in **ascending** order.\n",
        "* It only takes in an input list (we prepared this for you already).\n",
        "* **Use function recursions**. Go research what this means. If you can't do recursions (because you opt to use for loops only) that's fine but your final max score would be 8 pts. out of 10 pts.\n",
        "* **Don't forget to put in your student number for the function that generates a random list**. We'll use your student number as a seed for the random number generator.\n",
        "* **Print each pass in your program**. Each pass is one row sweep.\n",
        "\n",
        "**Grading Rubrics**\n",
        "\n",
        "* If your program works AND you used function recursions, you get 10 full points. You can use at most 1 for loop for this case.\n",
        "* If your program works BUT you did not use function recursions, you only get 8 points. This is when you use 2 or more for loops. For loops have high complexity, that's why we try to use recursions instead.\n",
        "* No submission or the code doesn't work is automatically 0 points.\n"
      ],
      "metadata": {
        "id": "FKKWsNX2ArTP"
      }
    },
    {
      "cell_type": "code",
      "source": [
        "#########################################\n",
        "# Importing modules\n",
        "#########################################\n",
        "import random\n",
        "\n",
        "#########################################\n",
        "# Pre-made functions\n",
        "#########################################\n",
        "def gen_random_list(sn):\n",
        "  random.seed(sn)\n",
        "  rand_list = []\n",
        "\n",
        "  for i in range(20):\n",
        "    temp_rand = random.randint(0,100)\n",
        "\n",
        "    while(temp_rand in rand_list):\n",
        "      temp_rand = random.randint(0,100)\n",
        "\n",
        "    rand_list.append(temp_rand)\n",
        "\n",
        "  return rand_list\n",
        "\n",
        "#########################################\n",
        "# Set-up\n",
        "# DO NOT FORGET TO SET YOUR STUDENT NUMBER IN HERE (without hyphen '-')\n",
        "# DO NOT CHANGE ANYTHING ELSE\n",
        "#########################################\n",
        "input_list = gen_random_list(201907164)\n",
        "print(\"Input list is: \" + str(input_list))\n",
        "\n",
        "#########################################\n",
        "# Start working here\n",
        "#########################################\n",
        "\n",
        "def bubble_sort(list_to_sort):\n",
        "  n = len(list_to_sort)-1\n",
        "  \n",
        "  done = True\n",
        "  \n",
        "  for i in range(n):\n",
        "    if list_to_sort[i] > list_to_sort[i+1]:\n",
        "      list_to_sort[i], list_to_sort[i+1] = list_to_sort[i+1], list_to_sort[i] \n",
        "      done = False\n",
        "  \n",
        "  if done:\n",
        "    return\n",
        "  else:\n",
        "    print(list_to_sort)\n",
        "    return bubble_sort(list_to_sort)\n",
        "\n",
        "#########################################\n",
        "# Run bubble sort here\n",
        "#########################################\n",
        "ans_list = bubble_sort(input_list)"
      ],
      "metadata": {
        "id": "O4JMHXfnAvvA",
        "colab": {
          "base_uri": "https://localhost:8080/"
        },
        "outputId": "57cef631-e3f4-48c7-f600-6e7b66555ce4"
      },
      "execution_count": 1,
      "outputs": [
        {
          "output_type": "stream",
          "name": "stdout",
          "text": [
            "Input list is: [51, 56, 10, 4, 45, 27, 77, 43, 99, 24, 72, 67, 7, 0, 8, 58, 86, 59, 9, 54]\n",
            "[51, 10, 4, 45, 27, 56, 43, 77, 24, 72, 67, 7, 0, 8, 58, 86, 59, 9, 54, 99]\n",
            "[10, 4, 45, 27, 51, 43, 56, 24, 72, 67, 7, 0, 8, 58, 77, 59, 9, 54, 86, 99]\n",
            "[4, 10, 27, 45, 43, 51, 24, 56, 67, 7, 0, 8, 58, 72, 59, 9, 54, 77, 86, 99]\n",
            "[4, 10, 27, 43, 45, 24, 51, 56, 7, 0, 8, 58, 67, 59, 9, 54, 72, 77, 86, 99]\n",
            "[4, 10, 27, 43, 24, 45, 51, 7, 0, 8, 56, 58, 59, 9, 54, 67, 72, 77, 86, 99]\n",
            "[4, 10, 27, 24, 43, 45, 7, 0, 8, 51, 56, 58, 9, 54, 59, 67, 72, 77, 86, 99]\n",
            "[4, 10, 24, 27, 43, 7, 0, 8, 45, 51, 56, 9, 54, 58, 59, 67, 72, 77, 86, 99]\n",
            "[4, 10, 24, 27, 7, 0, 8, 43, 45, 51, 9, 54, 56, 58, 59, 67, 72, 77, 86, 99]\n",
            "[4, 10, 24, 7, 0, 8, 27, 43, 45, 9, 51, 54, 56, 58, 59, 67, 72, 77, 86, 99]\n",
            "[4, 10, 7, 0, 8, 24, 27, 43, 9, 45, 51, 54, 56, 58, 59, 67, 72, 77, 86, 99]\n",
            "[4, 7, 0, 8, 10, 24, 27, 9, 43, 45, 51, 54, 56, 58, 59, 67, 72, 77, 86, 99]\n",
            "[4, 0, 7, 8, 10, 24, 9, 27, 43, 45, 51, 54, 56, 58, 59, 67, 72, 77, 86, 99]\n",
            "[0, 4, 7, 8, 10, 9, 24, 27, 43, 45, 51, 54, 56, 58, 59, 67, 72, 77, 86, 99]\n",
            "[0, 4, 7, 8, 9, 10, 24, 27, 43, 45, 51, 54, 56, 58, 59, 67, 72, 77, 86, 99]\n"
          ]
        }
      ]
    }
  ]
}