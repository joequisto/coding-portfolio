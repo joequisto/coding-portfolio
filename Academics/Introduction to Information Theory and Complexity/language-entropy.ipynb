{
  "nbformat": 4,
  "nbformat_minor": 0,
  "metadata": {
    "colab": {
      "name": "quisto_2S2122_Activity_2-2.ipynb",
      "provenance": [],
      "collapsed_sections": []
    },
    "kernelspec": {
      "name": "python3",
      "display_name": "Python 3"
    },
    "language_info": {
      "name": "python"
    }
  },
  "cells": [
    {
      "cell_type": "markdown",
      "source": [
        "**Name**: Romeo Jose B. Quisto\n",
        "\n",
        "**SN**: 201907164\n",
        "\n",
        "**Class**: THQ1\n",
        "\n",
        "**Task**: Your task is to recreate the discussion about the information of languages based on the text. Make sure to read the discussion on our Wiki page first. You will analyze your results at the end of this exercise. **There are five steps for this exercise**. Please be guided accordingly.\n",
        "\n",
        "* Step 1 - Importing useful tools\n",
        "* Step 2 - Making the block-entropy function (5 pts.)\n",
        "* Step 3a - Sanity checking (1 pts.)\n",
        "* Step 3b - Fill up the table (1 pts.)\n",
        "* Step 4 - Plotting stage\n",
        "* Step 5 - Results and discussion (3 pts.)\n",
        "\n",
        "Have fun doing this exercise! 💓"
      ],
      "metadata": {
        "id": "4Dfb7icOsD7X"
      }
    },
    {
      "cell_type": "markdown",
      "source": [
        "---\n",
        "\n",
        "# Step 1 - Importing useful tools\n",
        "\n",
        "Make sure to **run** this chunk of code first to initialize our setup. **DO NOT** change anything in this set of codes. We do encourage that you study the code and understand what each part does. You might use these later in your course."
      ],
      "metadata": {
        "id": "MoUb2aFSw3ch"
      }
    },
    {
      "cell_type": "code",
      "execution_count": 1,
      "metadata": {
        "id": "-PYxUxWbq0Fk"
      },
      "outputs": [],
      "source": [
        "###############################################\n",
        "# PLEASE DO NOT CHANGE ANYTHING IN THIS CODE BLOCK!\n",
        "###############################################\n",
        "\n",
        "###############################################\n",
        "# Import useful packages for convenience\n",
        "###############################################\n",
        "import math                       # For useful math functions like log of 2\n",
        "import matplotlib.pyplot as plt   # For plotting later\n",
        "import requests                   # For extracting data saved on git \n",
        "\n",
        "###############################################\n",
        "# We made this for you! Use it wisely :)\n",
        "###############################################\n",
        "\n",
        "###############################################\n",
        "# Calculating information. The input small x is some probability value.\n",
        "# 0 <= x <= 1\n",
        "# If you go beyond the input range, it will report the errors\n",
        "###############################################\n",
        "def info(x):\n",
        "    if(x == 0):\n",
        "        return 0\n",
        "    if(x == 1):\n",
        "        return 0\n",
        "    elif(x < 0):\n",
        "        print(\"Error! Can't have negative probabilities\")\n",
        "        return \n",
        "    elif(x > 1):\n",
        "        print(\"Error! Can't have probabilities more than 1\")\n",
        "    else:\n",
        "        return -1*(math.log(x,2))\n",
        "\n",
        "###############################################\n",
        "# Calculating entropy, the input X is a list\n",
        "# For example  X = [0.2, 0.3, 0.4, 0.5]\n",
        "# Returns 2.0142 bits\n",
        "###############################################\n",
        "def entropy(X):\n",
        "    ent = 0\n",
        "    for i in X:\n",
        "        ent += i*info(i)\n",
        "    return ent\n",
        "\n",
        "###############################################\n",
        "# Importing data\n",
        "###############################################\n",
        "eng_data = requests.get('https://raw.githubusercontent.com/rgantonio/CoE161---FileDump/main/eng_clean.txt').text\n",
        "ger_data = requests.get('https://raw.githubusercontent.com/rgantonio/CoE161---FileDump/main/ger_clean.txt').text\n",
        "fre_data = requests.get('https://raw.githubusercontent.com/rgantonio/CoE161---FileDump/main/fre_clean.txt').text\n",
        "tag_data = requests.get('https://raw.githubusercontent.com/rgantonio/CoE161---FileDump/main/tag_clean.txt').text"
      ]
    },
    {
      "cell_type": "markdown",
      "source": [
        "---\n",
        "\n",
        "# Step 2 - Making the block-entropy function\n",
        "\n",
        "Code the function here. The function has two arguments: ``data`` and ``N``. ``data`` is the string of text to be processed. ``N`` is the block size to be considered. Here's a short pseudocode to guide you:\n",
        "\n",
        "1. Initialize an empty dictionary.\n",
        "2. Get the total length of the string.\n",
        "3. Iterate for the entire length of the string (while taking note of ``N``).\n",
        "4. Save into a temporarly block a slice of the string (while taking note of ``N``).\n",
        "5. Save the block into the dictionary if it's new. Otherwise, create a new entry.\n",
        "6. Repeat step 4-5 until we exhaust all iterations of the string.\n",
        "7. Sum the frequency count for all cases (or combinations) in the dictionary. This sum will be used for determining the probability.\n",
        "8. Generate a list of probabilities for every case (or combination). Note: Save it into a list so you can use the entropy function for convenience.\n",
        "9. Calculate the entropy and divide by ``N`` to get the entropy for a single letter.\n",
        "10. Return the value.\n",
        "\n",
        "Some notes:\n",
        "* You can deviate from the pseudocode. If you can think of a better algorithm or process, then go for it!\n",
        "* There is a sanity checker in the next step. Use it to know if you did it correctly.\n",
        "* When you save entries in the dictionary, it is best NOT to generate ALL combinations. Save only when a new pattern appears. This saves time and memory. Some computers may not be able to support ALL combinations.\n",
        "* Confidence booster: You can do this in < 30 lines 🥰.\n",
        "* Your result can have an error tolerance of 0.01"
      ],
      "metadata": {
        "id": "sBKkLc7FzZ5J"
      }
    },
    {
      "cell_type": "code",
      "source": [
        "###############################################\n",
        "# Working block-entropy function\n",
        "###############################################\n",
        "def get_block_entropy(data,N): \n",
        "\n",
        "  # Write your nice code in here\n",
        "  placeholder = {}\n",
        "  length = len(data)\n",
        "  i = 0\n",
        "  while i < length:\n",
        "    if length-i >= N:\n",
        "      blk = data[i:i+N]\n",
        "      if blk in placeholder:\n",
        "        placeholder[blk] += 1\n",
        "      else:\n",
        "        placeholder[blk] = 1\n",
        "    i += N\n",
        "\n",
        "  probs = []\n",
        "  for j in placeholder:\n",
        "    probs.append(placeholder[j]/sum(placeholder.values()))\n",
        "\n",
        "  return entropy(probs)/N\n",
        "\n",
        "  \n",
        "\n",
        "\n",
        "###############################################"
      ],
      "metadata": {
        "id": "nhPRpnXbzmNj"
      },
      "execution_count": 2,
      "outputs": []
    },
    {
      "cell_type": "markdown",
      "source": [
        "---\n",
        "\n",
        "# Sandbox\n",
        "\n",
        "Use this empty box for experimentation purposes. Whatever is in here won't be part of your grade."
      ],
      "metadata": {
        "id": "JLBMIaVhz-6A"
      }
    },
    {
      "cell_type": "code",
      "source": [
        "####################################################################################\n",
        "# Sandbox space\n",
        "####################################################################################\n",
        "\n",
        "\n",
        "sample = \"the quick brown fox jumps over the lazy dog\"\n",
        "\n",
        "print(get_block_entropy(sample,2))\n",
        "\n",
        "\n",
        "\n",
        "\n",
        "####################################################################################"
      ],
      "metadata": {
        "id": "vY3s8oPfE7VT",
        "colab": {
          "base_uri": "https://localhost:8080/"
        },
        "outputId": "e0ee7199-966a-474a-c881-57034792cde1"
      },
      "execution_count": 3,
      "outputs": [
        {
          "output_type": "stream",
          "name": "stdout",
          "text": [
            "2.19615871138938\n"
          ]
        }
      ]
    },
    {
      "cell_type": "markdown",
      "source": [
        "---\n",
        "\n",
        "# Step 3a - Sanity checking\n",
        "\n",
        "Sanity checking stage. Make sure these pass before moving into the final plotting stage. DO NOT CHANGE ANYTHING IN HERE. (1 pts.)"
      ],
      "metadata": {
        "id": "dzRN2k85Forx"
      }
    },
    {
      "cell_type": "code",
      "source": [
        "eng_sample = get_block_entropy(eng_data,1)\n",
        "ger_sample = get_block_entropy(ger_data,1)\n",
        "fre_sample = get_block_entropy(fre_data,1)\n",
        "tag_sample = get_block_entropy(tag_data,1)\n",
        "\n",
        "###############################################\n",
        "# Sanity checking if your block works. DO NOT CHANGE ANYTIHNG IN HERE.\n",
        "###############################################\n",
        "\n",
        "if(eng_sample >= 4.10 and eng_sample <= 4.12):\n",
        "  print(\"Good! You may proceed.\")\n",
        "else:\n",
        "  print(\"English calculation is wrong!.\")\n",
        "\n",
        "if(ger_sample >= 4.09 and ger_sample <= 4.11):\n",
        "  print(\"Good! You may proceed.\")\n",
        "else:\n",
        "  print(\"German calculation is wrong!\")\n",
        "\n",
        "if(fre_sample >= 4.00 and fre_sample <= 4.02):\n",
        "  print(\"Good! You may proceed.\")\n",
        "else:\n",
        "  print(\"French calculation is wrong!\")\n",
        "\n",
        "if(tag_sample >= 3.70 and tag_sample <= 3.72):\n",
        "  print(\"Good! You may proceed.\")\n",
        "else:\n",
        "  print(\"English calculation is wrong!\")"
      ],
      "metadata": {
        "id": "9MiwUZyqGaNt",
        "colab": {
          "base_uri": "https://localhost:8080/"
        },
        "outputId": "44eb301f-564c-4dcf-e326-3820b70150d3"
      },
      "execution_count": 4,
      "outputs": [
        {
          "output_type": "stream",
          "name": "stdout",
          "text": [
            "Good! You may proceed.\n",
            "Good! You may proceed.\n",
            "Good! You may proceed.\n",
            "Good! You may proceed.\n"
          ]
        }
      ]
    },
    {
      "cell_type": "markdown",
      "source": [
        "---\n",
        "# Step 3b - Fill up the table\n",
        "\n",
        "Use the code space below to get data. We'll only record the contents of the table. In the table, round up to 4 decimal places only."
      ],
      "metadata": {
        "id": "knkgYB6WHY-G"
      }
    },
    {
      "cell_type": "code",
      "source": [
        "####################################################################################\n",
        "# Sandbox space\n",
        "####################################################################################\n",
        "\n",
        "print('English')\n",
        "print(get_block_entropy(eng_data,1)) #english N=1\n",
        "print(get_block_entropy(eng_data,2)) #english N=2\n",
        "print(get_block_entropy(eng_data,3)) #english N=3\n",
        "print(get_block_entropy(eng_data,4)) #english N=4\n",
        "print('\\nGerman')\n",
        "print(get_block_entropy(ger_data,1)) #german N=1\n",
        "print(get_block_entropy(ger_data,2)) #german N=2\n",
        "print(get_block_entropy(ger_data,3)) #german N=3\n",
        "print(get_block_entropy(ger_data,4)) #german N=4\n",
        "print('\\nFrench')\n",
        "print(get_block_entropy(fre_data,1)) #french N=1\n",
        "print(get_block_entropy(fre_data,2)) #french N=2\n",
        "print(get_block_entropy(fre_data,3)) #french N=3\n",
        "print(get_block_entropy(fre_data,4)) #french N=4\n",
        "print('\\nTagalog')\n",
        "print(get_block_entropy(tag_data,1)) #tagalog N=1\n",
        "print(get_block_entropy(tag_data,2)) #tagalog N=2\n",
        "print(get_block_entropy(tag_data,3)) #tagalog N=3\n",
        "print(get_block_entropy(tag_data,4)) #tagalog N=4\n",
        "\n",
        "\n",
        "\n",
        "####################################################################################"
      ],
      "metadata": {
        "id": "EiZMRgq9I4d3",
        "colab": {
          "base_uri": "https://localhost:8080/"
        },
        "outputId": "d36261a2-4e88-4567-9aa2-72376eeaed3f"
      },
      "execution_count": 5,
      "outputs": [
        {
          "output_type": "stream",
          "name": "stdout",
          "text": [
            "English\n",
            "4.1095081590650056\n",
            "3.742487279775281\n",
            "3.3648612218216165\n",
            "2.95015634957399\n",
            "\n",
            "German\n",
            "4.099133213688625\n",
            "3.712019144538438\n",
            "3.3451677424431097\n",
            "2.942957201955594\n",
            "\n",
            "French\n",
            "4.00525758041807\n",
            "3.6362764261430787\n",
            "3.331406551735355\n",
            "3.0308922767983253\n",
            "\n",
            "Tagalog\n",
            "3.706917992828308\n",
            "3.2922454088253046\n",
            "2.997768432514993\n",
            "2.699186817125204\n"
          ]
        }
      ]
    },
    {
      "cell_type": "markdown",
      "source": [
        "Table: Entropy and N-Block Data (from $N = 1$ up to $N = 4$) (1 pts.)\n",
        "\n",
        "|Language | $N = 1$  | $N = 2$  | $N = 3$  | $N = 4$  |\n",
        "|---------|----------|----------|----------|----------|\n",
        "| English |  4.1095  |  3.7425  |  3.3649  |  2.9502  |\n",
        "| German  |  4.0991  |  3.7120  |  3.3452  |  2.9430  |\n",
        "| French  |  4.0053  |  3.6363  |  3.3314  |  3.0309  |\n",
        "| Tagalog |  3.7069  |  3.2922  |  2.9978  |  2.6992  |\n"
      ],
      "metadata": {
        "id": "57syjGzgJFvn"
      }
    },
    {
      "cell_type": "markdown",
      "source": [
        "---\n",
        "\n",
        "# Step 4 - Plotting stage\n",
        "\n",
        "Run this code if you want to plot your data. \n",
        "Feel free to change the **TODO** tag. You can change the number of N-grams that you want to plot."
      ],
      "metadata": {
        "id": "qr-wkjRYE71x"
      }
    },
    {
      "cell_type": "code",
      "source": [
        "###############################################\n",
        "# Initializing empty lists\n",
        "###############################################\n",
        "block_eng = []\n",
        "block_ger = []\n",
        "block_fre = []\n",
        "block_tag = []\n",
        "\n",
        "###############################################\n",
        "# TODO: Feel free to change the number of N-grams\n",
        "###############################################\n",
        "points = 12\n",
        "\n",
        "###############################################\n",
        "# Retrieving data\n",
        "###############################################\n",
        "for i in range(points):\n",
        "    \n",
        "    block_eng.append(get_block_entropy(eng_data,(i+1)))\n",
        "    block_ger.append(get_block_entropy(ger_data,(i+1)))\n",
        "    block_fre.append(get_block_entropy(fre_data,(i+1)))\n",
        "    block_tag.append(get_block_entropy(tag_data,(i+1)))\n",
        "\n",
        "###############################################\n",
        "# Create x-axis\n",
        "###############################################\n",
        "x = [(i + 1) for i in range(points)]\n",
        "\n",
        "###############################################\n",
        "# Plotting\n",
        "###############################################\n",
        "plt.plot(x,block_eng, label = \"English\")\n",
        "plt.plot(x,block_ger, label = \"German\")\n",
        "plt.plot(x,block_fre, label = \"French\")\n",
        "plt.plot(x,block_tag, label = \"Tagalog\")\n",
        "plt.xlabel(\"block-gram\")\n",
        "plt.ylabel(\"H(block-gram) bits for 1 letter\")\n",
        "plt.legend()\n",
        "plt.show()"
      ],
      "metadata": {
        "id": "wSNH9uKy0GhK",
        "colab": {
          "base_uri": "https://localhost:8080/",
          "height": 279
        },
        "outputId": "dca4c0ab-0dac-4523-80a2-4c405d4af514"
      },
      "execution_count": 6,
      "outputs": [
        {
          "output_type": "display_data",
          "data": {
            "image/png": "[encoded data removed]",
            "text/plain": [
              "<Figure size 432x288 with 1 Axes>"
            ]
          },
          "metadata": {
            "needs_background": "light"
          }
        }
      ]
    },
    {
      "cell_type": "markdown",
      "source": [
        "---\n",
        "\n",
        "# Step 5 - Results and discussion\n",
        "\n",
        "Answer the following. Please italicize all your answers just to make sure we see it immediately.\n",
        "\n",
        "(a) When $N = 1$, what can you interpret about the entropy for each language? (1.00 pts.)\n",
        "\n",
        "*At N=1, it can be observed that English, German, and French all have roughly the same amount of entropy. These might be because the three have the same amount of letters in their alphabet. For Tagalog, the entropy is lower than the other three. This might be due to Tagalog using less letters in word construction. Another interpretation could be that Tagalog 2-letter combinations are more predictable. For example the letter \"n\" is commonly followed by \"g\" to form the word \"ng\" which is prevalent in most Tagalog sentences.*\n",
        "\n",
        "(b) As $N$ increases, $H$ decreases. What does this mean about languages? What can you interpret from this observation? (1.00 pts.)\n",
        "\n",
        "*This might mean that as the number of letters increase per block, there is less uncertainty to what the letter might be used for. For each language, there might be common strings of letters that form to complete multiple words. As the block size increases, you just become more certain what that letter might be used for.*\n",
        "\n",
        "(c) Do you think this experiment is sufficient to describe the information about a language? Is there something we can do to improve it? Is there something missing? (1.00 pts.)\n",
        "\n",
        "*I don't think the experiment is sufficient to describe the information about a language since there's so much more to understand to a language and not just the amount of frequency of N-blocks of characters. It defintely provides some insight as to which letters/words are often used in specific excerpts. Depending on the topic being discussed, there may be a factor as to which a letter is more frequently used. There should be more samples of text per language. In addition to that, it is assumed that the sample string of text has meaning, but it could also have been just random jargon or repetitive words which might affect the results.*\n",
        "\n",
        "*I also think there should be a specific measure of comparison for all languages since the frequency of letters is not sufficient to be a metric for comparison between languages since there are some languages that have a fewer letters in their alphabet. Also, if lanuage in general is being studied, other languages should be included and not just those that stemmed from the Roman alphabet. Other languages may have different letter/word structure that the frequency of a letter/character might not be a relevant metric.*\n",
        "\n",
        "---"
      ],
      "metadata": {
        "id": "bHuU2ebAGdZD"
      }
    }
  ]
}